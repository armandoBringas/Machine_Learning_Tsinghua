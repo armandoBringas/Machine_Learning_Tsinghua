{
 "cells": [
  {
   "cell_type": "code",
   "execution_count": 1,
   "metadata": {},
   "outputs": [],
   "source": [
    "import gc\n",
    "import pandas as pd\n",
    "import matplotlib.pyplot as plt\n",
    "import seaborn as sns\n",
    "\n",
    "\n"
   ]
  },
  {
   "cell_type": "markdown",
   "metadata": {},
   "source": [
    "## Exploratory Data Analysis (EDA)"
   ]
  },
  {
   "cell_type": "code",
   "execution_count": 2,
   "metadata": {},
   "outputs": [],
   "source": [
    "train_series = pd.read_parquet(\"../data/train_series.parquet\")\n",
    "train_events = pd.read_csv(\"../data/train_events.csv\")"
   ]
  },
  {
   "cell_type": "markdown",
   "metadata": {},
   "source": [
    "### Train Series"
   ]
  },
  {
   "cell_type": "code",
   "execution_count": 3,
   "metadata": {},
   "outputs": [
    {
     "data": {
      "text/html": [
       "<div>\n",
       "<style scoped>\n",
       "    .dataframe tbody tr th:only-of-type {\n",
       "        vertical-align: middle;\n",
       "    }\n",
       "\n",
       "    .dataframe tbody tr th {\n",
       "        vertical-align: top;\n",
       "    }\n",
       "\n",
       "    .dataframe thead th {\n",
       "        text-align: right;\n",
       "    }\n",
       "</style>\n",
       "<table border=\"1\" class=\"dataframe\">\n",
       "  <thead>\n",
       "    <tr style=\"text-align: right;\">\n",
       "      <th></th>\n",
       "      <th>series_id</th>\n",
       "      <th>step</th>\n",
       "      <th>timestamp</th>\n",
       "      <th>anglez</th>\n",
       "      <th>enmo</th>\n",
       "    </tr>\n",
       "  </thead>\n",
       "  <tbody>\n",
       "    <tr>\n",
       "      <th>0</th>\n",
       "      <td>038441c925bb</td>\n",
       "      <td>0</td>\n",
       "      <td>2018-08-14T15:30:00-0400</td>\n",
       "      <td>2.6367</td>\n",
       "      <td>0.0217</td>\n",
       "    </tr>\n",
       "    <tr>\n",
       "      <th>1</th>\n",
       "      <td>038441c925bb</td>\n",
       "      <td>1</td>\n",
       "      <td>2018-08-14T15:30:05-0400</td>\n",
       "      <td>2.6368</td>\n",
       "      <td>0.0215</td>\n",
       "    </tr>\n",
       "    <tr>\n",
       "      <th>2</th>\n",
       "      <td>038441c925bb</td>\n",
       "      <td>2</td>\n",
       "      <td>2018-08-14T15:30:10-0400</td>\n",
       "      <td>2.6370</td>\n",
       "      <td>0.0216</td>\n",
       "    </tr>\n",
       "    <tr>\n",
       "      <th>3</th>\n",
       "      <td>038441c925bb</td>\n",
       "      <td>3</td>\n",
       "      <td>2018-08-14T15:30:15-0400</td>\n",
       "      <td>2.6368</td>\n",
       "      <td>0.0213</td>\n",
       "    </tr>\n",
       "    <tr>\n",
       "      <th>4</th>\n",
       "      <td>038441c925bb</td>\n",
       "      <td>4</td>\n",
       "      <td>2018-08-14T15:30:20-0400</td>\n",
       "      <td>2.6368</td>\n",
       "      <td>0.0215</td>\n",
       "    </tr>\n",
       "  </tbody>\n",
       "</table>\n",
       "</div>"
      ],
      "text/plain": [
       "      series_id  step                 timestamp  anglez    enmo\n",
       "0  038441c925bb     0  2018-08-14T15:30:00-0400  2.6367  0.0217\n",
       "1  038441c925bb     1  2018-08-14T15:30:05-0400  2.6368  0.0215\n",
       "2  038441c925bb     2  2018-08-14T15:30:10-0400  2.6370  0.0216\n",
       "3  038441c925bb     3  2018-08-14T15:30:15-0400  2.6368  0.0213\n",
       "4  038441c925bb     4  2018-08-14T15:30:20-0400  2.6368  0.0215"
      ]
     },
     "execution_count": 3,
     "metadata": {},
     "output_type": "execute_result"
    }
   ],
   "source": [
    "train_series.head()"
   ]
  },
  {
   "cell_type": "code",
   "execution_count": 4,
   "metadata": {},
   "outputs": [
    {
     "name": "stdout",
     "output_type": "stream",
     "text": [
      "<class 'pandas.core.frame.DataFrame'>\n",
      "RangeIndex: 127946340 entries, 0 to 127946339\n",
      "Data columns (total 5 columns):\n",
      " #   Column     Dtype  \n",
      "---  ------     -----  \n",
      " 0   series_id  object \n",
      " 1   step       uint32 \n",
      " 2   timestamp  object \n",
      " 3   anglez     float32\n",
      " 4   enmo       float32\n",
      "dtypes: float32(2), object(2), uint32(1)\n",
      "memory usage: 3.3+ GB\n"
     ]
    }
   ],
   "source": [
    "train_series.info()"
   ]
  },
  {
   "cell_type": "code",
   "execution_count": 5,
   "metadata": {},
   "outputs": [
    {
     "data": {
      "text/html": [
       "<div>\n",
       "<style scoped>\n",
       "    .dataframe tbody tr th:only-of-type {\n",
       "        vertical-align: middle;\n",
       "    }\n",
       "\n",
       "    .dataframe tbody tr th {\n",
       "        vertical-align: top;\n",
       "    }\n",
       "\n",
       "    .dataframe thead th {\n",
       "        text-align: right;\n",
       "    }\n",
       "</style>\n",
       "<table border=\"1\" class=\"dataframe\">\n",
       "  <thead>\n",
       "    <tr style=\"text-align: right;\">\n",
       "      <th></th>\n",
       "      <th>series_id</th>\n",
       "      <th>step</th>\n",
       "      <th>timestamp</th>\n",
       "      <th>anglez</th>\n",
       "      <th>enmo</th>\n",
       "    </tr>\n",
       "  </thead>\n",
       "  <tbody>\n",
       "    <tr>\n",
       "      <th>count</th>\n",
       "      <td>127946340</td>\n",
       "      <td>1.279463e+08</td>\n",
       "      <td>127946340</td>\n",
       "      <td>1.279463e+08</td>\n",
       "      <td>1.279463e+08</td>\n",
       "    </tr>\n",
       "    <tr>\n",
       "      <th>unique</th>\n",
       "      <td>277</td>\n",
       "      <td>NaN</td>\n",
       "      <td>12159540</td>\n",
       "      <td>NaN</td>\n",
       "      <td>NaN</td>\n",
       "    </tr>\n",
       "    <tr>\n",
       "      <th>top</th>\n",
       "      <td>78569a801a38</td>\n",
       "      <td>NaN</td>\n",
       "      <td>2018-12-27T10:03:30-0500</td>\n",
       "      <td>NaN</td>\n",
       "      <td>NaN</td>\n",
       "    </tr>\n",
       "    <tr>\n",
       "      <th>freq</th>\n",
       "      <td>1433880</td>\n",
       "      <td>NaN</td>\n",
       "      <td>19</td>\n",
       "      <td>NaN</td>\n",
       "      <td>NaN</td>\n",
       "    </tr>\n",
       "    <tr>\n",
       "      <th>mean</th>\n",
       "      <td>NaN</td>\n",
       "      <td>2.548048e+05</td>\n",
       "      <td>NaN</td>\n",
       "      <td>-8.810453e+00</td>\n",
       "      <td>4.131503e-02</td>\n",
       "    </tr>\n",
       "    <tr>\n",
       "      <th>std</th>\n",
       "      <td>NaN</td>\n",
       "      <td>1.778930e+05</td>\n",
       "      <td>NaN</td>\n",
       "      <td>3.552188e+01</td>\n",
       "      <td>1.018289e-01</td>\n",
       "    </tr>\n",
       "    <tr>\n",
       "      <th>min</th>\n",
       "      <td>NaN</td>\n",
       "      <td>0.000000e+00</td>\n",
       "      <td>NaN</td>\n",
       "      <td>-9.000000e+01</td>\n",
       "      <td>0.000000e+00</td>\n",
       "    </tr>\n",
       "    <tr>\n",
       "      <th>25%</th>\n",
       "      <td>NaN</td>\n",
       "      <td>1.158120e+05</td>\n",
       "      <td>NaN</td>\n",
       "      <td>-3.185890e+01</td>\n",
       "      <td>1.300000e-03</td>\n",
       "    </tr>\n",
       "    <tr>\n",
       "      <th>50%</th>\n",
       "      <td>NaN</td>\n",
       "      <td>2.345190e+05</td>\n",
       "      <td>NaN</td>\n",
       "      <td>-9.597900e+00</td>\n",
       "      <td>1.720000e-02</td>\n",
       "    </tr>\n",
       "    <tr>\n",
       "      <th>75%</th>\n",
       "      <td>NaN</td>\n",
       "      <td>3.571960e+05</td>\n",
       "      <td>NaN</td>\n",
       "      <td>1.130020e+01</td>\n",
       "      <td>4.370000e-02</td>\n",
       "    </tr>\n",
       "    <tr>\n",
       "      <th>max</th>\n",
       "      <td>NaN</td>\n",
       "      <td>1.433879e+06</td>\n",
       "      <td>NaN</td>\n",
       "      <td>9.000000e+01</td>\n",
       "      <td>1.143370e+01</td>\n",
       "    </tr>\n",
       "  </tbody>\n",
       "</table>\n",
       "</div>"
      ],
      "text/plain": [
       "           series_id          step                 timestamp        anglez  \\\n",
       "count      127946340  1.279463e+08                 127946340  1.279463e+08   \n",
       "unique           277           NaN                  12159540           NaN   \n",
       "top     78569a801a38           NaN  2018-12-27T10:03:30-0500           NaN   \n",
       "freq         1433880           NaN                        19           NaN   \n",
       "mean             NaN  2.548048e+05                       NaN -8.810453e+00   \n",
       "std              NaN  1.778930e+05                       NaN  3.552188e+01   \n",
       "min              NaN  0.000000e+00                       NaN -9.000000e+01   \n",
       "25%              NaN  1.158120e+05                       NaN -3.185890e+01   \n",
       "50%              NaN  2.345190e+05                       NaN -9.597900e+00   \n",
       "75%              NaN  3.571960e+05                       NaN  1.130020e+01   \n",
       "max              NaN  1.433879e+06                       NaN  9.000000e+01   \n",
       "\n",
       "                enmo  \n",
       "count   1.279463e+08  \n",
       "unique           NaN  \n",
       "top              NaN  \n",
       "freq             NaN  \n",
       "mean    4.131503e-02  \n",
       "std     1.018289e-01  \n",
       "min     0.000000e+00  \n",
       "25%     1.300000e-03  \n",
       "50%     1.720000e-02  \n",
       "75%     4.370000e-02  \n",
       "max     1.143370e+01  "
      ]
     },
     "execution_count": 5,
     "metadata": {},
     "output_type": "execute_result"
    }
   ],
   "source": [
    "train_series.describe(include='all')"
   ]
  },
  {
   "cell_type": "code",
   "execution_count": 6,
   "metadata": {},
   "outputs": [
    {
     "data": {
      "text/plain": [
       "series_id    False\n",
       "step         False\n",
       "timestamp    False\n",
       "anglez       False\n",
       "enmo         False\n",
       "dtype: bool"
      ]
     },
     "execution_count": 6,
     "metadata": {},
     "output_type": "execute_result"
    }
   ],
   "source": [
    "# Check null values\n",
    "train_series.isnull().any()"
   ]
  },
  {
   "cell_type": "markdown",
   "metadata": {},
   "source": [
    "### Train Events"
   ]
  },
  {
   "cell_type": "code",
   "execution_count": 7,
   "metadata": {},
   "outputs": [
    {
     "data": {
      "text/html": [
       "<div>\n",
       "<style scoped>\n",
       "    .dataframe tbody tr th:only-of-type {\n",
       "        vertical-align: middle;\n",
       "    }\n",
       "\n",
       "    .dataframe tbody tr th {\n",
       "        vertical-align: top;\n",
       "    }\n",
       "\n",
       "    .dataframe thead th {\n",
       "        text-align: right;\n",
       "    }\n",
       "</style>\n",
       "<table border=\"1\" class=\"dataframe\">\n",
       "  <thead>\n",
       "    <tr style=\"text-align: right;\">\n",
       "      <th></th>\n",
       "      <th>series_id</th>\n",
       "      <th>night</th>\n",
       "      <th>event</th>\n",
       "      <th>step</th>\n",
       "      <th>timestamp</th>\n",
       "    </tr>\n",
       "  </thead>\n",
       "  <tbody>\n",
       "    <tr>\n",
       "      <th>0</th>\n",
       "      <td>038441c925bb</td>\n",
       "      <td>1</td>\n",
       "      <td>onset</td>\n",
       "      <td>4992.0</td>\n",
       "      <td>2018-08-14T22:26:00-0400</td>\n",
       "    </tr>\n",
       "    <tr>\n",
       "      <th>1</th>\n",
       "      <td>038441c925bb</td>\n",
       "      <td>1</td>\n",
       "      <td>wakeup</td>\n",
       "      <td>10932.0</td>\n",
       "      <td>2018-08-15T06:41:00-0400</td>\n",
       "    </tr>\n",
       "    <tr>\n",
       "      <th>2</th>\n",
       "      <td>038441c925bb</td>\n",
       "      <td>2</td>\n",
       "      <td>onset</td>\n",
       "      <td>20244.0</td>\n",
       "      <td>2018-08-15T19:37:00-0400</td>\n",
       "    </tr>\n",
       "    <tr>\n",
       "      <th>3</th>\n",
       "      <td>038441c925bb</td>\n",
       "      <td>2</td>\n",
       "      <td>wakeup</td>\n",
       "      <td>27492.0</td>\n",
       "      <td>2018-08-16T05:41:00-0400</td>\n",
       "    </tr>\n",
       "    <tr>\n",
       "      <th>4</th>\n",
       "      <td>038441c925bb</td>\n",
       "      <td>3</td>\n",
       "      <td>onset</td>\n",
       "      <td>39996.0</td>\n",
       "      <td>2018-08-16T23:03:00-0400</td>\n",
       "    </tr>\n",
       "  </tbody>\n",
       "</table>\n",
       "</div>"
      ],
      "text/plain": [
       "      series_id  night   event     step                 timestamp\n",
       "0  038441c925bb      1   onset   4992.0  2018-08-14T22:26:00-0400\n",
       "1  038441c925bb      1  wakeup  10932.0  2018-08-15T06:41:00-0400\n",
       "2  038441c925bb      2   onset  20244.0  2018-08-15T19:37:00-0400\n",
       "3  038441c925bb      2  wakeup  27492.0  2018-08-16T05:41:00-0400\n",
       "4  038441c925bb      3   onset  39996.0  2018-08-16T23:03:00-0400"
      ]
     },
     "execution_count": 7,
     "metadata": {},
     "output_type": "execute_result"
    }
   ],
   "source": [
    "train_events.head()"
   ]
  },
  {
   "cell_type": "code",
   "execution_count": 8,
   "metadata": {},
   "outputs": [
    {
     "name": "stdout",
     "output_type": "stream",
     "text": [
      "<class 'pandas.core.frame.DataFrame'>\n",
      "RangeIndex: 14508 entries, 0 to 14507\n",
      "Data columns (total 5 columns):\n",
      " #   Column     Non-Null Count  Dtype  \n",
      "---  ------     --------------  -----  \n",
      " 0   series_id  14508 non-null  object \n",
      " 1   night      14508 non-null  int64  \n",
      " 2   event      14508 non-null  object \n",
      " 3   step       9585 non-null   float64\n",
      " 4   timestamp  9585 non-null   object \n",
      "dtypes: float64(1), int64(1), object(3)\n",
      "memory usage: 566.8+ KB\n"
     ]
    }
   ],
   "source": [
    "train_events.info()"
   ]
  },
  {
   "cell_type": "code",
   "execution_count": 9,
   "metadata": {},
   "outputs": [
    {
     "data": {
      "text/html": [
       "<div>\n",
       "<style scoped>\n",
       "    .dataframe tbody tr th:only-of-type {\n",
       "        vertical-align: middle;\n",
       "    }\n",
       "\n",
       "    .dataframe tbody tr th {\n",
       "        vertical-align: top;\n",
       "    }\n",
       "\n",
       "    .dataframe thead th {\n",
       "        text-align: right;\n",
       "    }\n",
       "</style>\n",
       "<table border=\"1\" class=\"dataframe\">\n",
       "  <thead>\n",
       "    <tr style=\"text-align: right;\">\n",
       "      <th></th>\n",
       "      <th>series_id</th>\n",
       "      <th>night</th>\n",
       "      <th>event</th>\n",
       "      <th>step</th>\n",
       "      <th>timestamp</th>\n",
       "    </tr>\n",
       "  </thead>\n",
       "  <tbody>\n",
       "    <tr>\n",
       "      <th>count</th>\n",
       "      <td>14508</td>\n",
       "      <td>14508.000000</td>\n",
       "      <td>14508</td>\n",
       "      <td>9585.000000</td>\n",
       "      <td>9585</td>\n",
       "    </tr>\n",
       "    <tr>\n",
       "      <th>unique</th>\n",
       "      <td>277</td>\n",
       "      <td>NaN</td>\n",
       "      <td>2</td>\n",
       "      <td>NaN</td>\n",
       "      <td>9360</td>\n",
       "    </tr>\n",
       "    <tr>\n",
       "      <th>top</th>\n",
       "      <td>78569a801a38</td>\n",
       "      <td>NaN</td>\n",
       "      <td>onset</td>\n",
       "      <td>NaN</td>\n",
       "      <td>2017-11-27T21:37:00-0500</td>\n",
       "    </tr>\n",
       "    <tr>\n",
       "      <th>freq</th>\n",
       "      <td>168</td>\n",
       "      <td>NaN</td>\n",
       "      <td>7254</td>\n",
       "      <td>NaN</td>\n",
       "      <td>3</td>\n",
       "    </tr>\n",
       "    <tr>\n",
       "      <th>mean</th>\n",
       "      <td>NaN</td>\n",
       "      <td>15.120072</td>\n",
       "      <td>NaN</td>\n",
       "      <td>214352.123944</td>\n",
       "      <td>NaN</td>\n",
       "    </tr>\n",
       "    <tr>\n",
       "      <th>std</th>\n",
       "      <td>NaN</td>\n",
       "      <td>10.286758</td>\n",
       "      <td>NaN</td>\n",
       "      <td>141268.408192</td>\n",
       "      <td>NaN</td>\n",
       "    </tr>\n",
       "    <tr>\n",
       "      <th>min</th>\n",
       "      <td>NaN</td>\n",
       "      <td>1.000000</td>\n",
       "      <td>NaN</td>\n",
       "      <td>936.000000</td>\n",
       "      <td>NaN</td>\n",
       "    </tr>\n",
       "    <tr>\n",
       "      <th>25%</th>\n",
       "      <td>NaN</td>\n",
       "      <td>7.000000</td>\n",
       "      <td>NaN</td>\n",
       "      <td>95436.000000</td>\n",
       "      <td>NaN</td>\n",
       "    </tr>\n",
       "    <tr>\n",
       "      <th>50%</th>\n",
       "      <td>NaN</td>\n",
       "      <td>14.000000</td>\n",
       "      <td>NaN</td>\n",
       "      <td>200604.000000</td>\n",
       "      <td>NaN</td>\n",
       "    </tr>\n",
       "    <tr>\n",
       "      <th>75%</th>\n",
       "      <td>NaN</td>\n",
       "      <td>21.000000</td>\n",
       "      <td>NaN</td>\n",
       "      <td>317520.000000</td>\n",
       "      <td>NaN</td>\n",
       "    </tr>\n",
       "    <tr>\n",
       "      <th>max</th>\n",
       "      <td>NaN</td>\n",
       "      <td>84.000000</td>\n",
       "      <td>NaN</td>\n",
       "      <td>739392.000000</td>\n",
       "      <td>NaN</td>\n",
       "    </tr>\n",
       "  </tbody>\n",
       "</table>\n",
       "</div>"
      ],
      "text/plain": [
       "           series_id         night  event           step  \\\n",
       "count          14508  14508.000000  14508    9585.000000   \n",
       "unique           277           NaN      2            NaN   \n",
       "top     78569a801a38           NaN  onset            NaN   \n",
       "freq             168           NaN   7254            NaN   \n",
       "mean             NaN     15.120072    NaN  214352.123944   \n",
       "std              NaN     10.286758    NaN  141268.408192   \n",
       "min              NaN      1.000000    NaN     936.000000   \n",
       "25%              NaN      7.000000    NaN   95436.000000   \n",
       "50%              NaN     14.000000    NaN  200604.000000   \n",
       "75%              NaN     21.000000    NaN  317520.000000   \n",
       "max              NaN     84.000000    NaN  739392.000000   \n",
       "\n",
       "                       timestamp  \n",
       "count                       9585  \n",
       "unique                      9360  \n",
       "top     2017-11-27T21:37:00-0500  \n",
       "freq                           3  \n",
       "mean                         NaN  \n",
       "std                          NaN  \n",
       "min                          NaN  \n",
       "25%                          NaN  \n",
       "50%                          NaN  \n",
       "75%                          NaN  \n",
       "max                          NaN  "
      ]
     },
     "execution_count": 9,
     "metadata": {},
     "output_type": "execute_result"
    }
   ],
   "source": [
    "train_events.describe(include='all')"
   ]
  },
  {
   "cell_type": "code",
   "execution_count": 10,
   "metadata": {},
   "outputs": [
    {
     "data": {
      "text/plain": [
       "series_id    False\n",
       "night        False\n",
       "event        False\n",
       "step          True\n",
       "timestamp     True\n",
       "dtype: bool"
      ]
     },
     "execution_count": 10,
     "metadata": {},
     "output_type": "execute_result"
    }
   ],
   "source": [
    "# Check null values\n",
    "train_events.isnull().any()"
   ]
  },
  {
   "cell_type": "markdown",
   "metadata": {},
   "source": [
    "## Pre-processing of Data"
   ]
  },
  {
   "cell_type": "code",
   "execution_count": 11,
   "metadata": {},
   "outputs": [
    {
     "name": "stdout",
     "output_type": "stream",
     "text": [
      "<class 'pandas.core.frame.DataFrame'>\n",
      "RangeIndex: 9585 entries, 0 to 9584\n",
      "Data columns (total 5 columns):\n",
      " #   Column     Non-Null Count  Dtype  \n",
      "---  ------     --------------  -----  \n",
      " 0   series_id  9585 non-null   object \n",
      " 1   night      9585 non-null   int64  \n",
      " 2   event      9585 non-null   object \n",
      " 3   step       9585 non-null   float64\n",
      " 4   timestamp  9585 non-null   object \n",
      "dtypes: float64(1), int64(1), object(3)\n",
      "memory usage: 374.5+ KB\n"
     ]
    }
   ],
   "source": [
    "train_events = train_events.dropna(axis=0, ignore_index=True)\n",
    "train_events.info()"
   ]
  },
  {
   "cell_type": "markdown",
   "metadata": {},
   "source": [
    "### Invalid events"
   ]
  },
  {
   "cell_type": "markdown",
   "metadata": {},
   "source": [
    "Search for occurrences of \"bad nights,\" which refers to any nights deviating from a single onset/wakeup pattern."
   ]
  },
  {
   "cell_type": "code",
   "execution_count": 12,
   "metadata": {},
   "outputs": [
    {
     "data": {
      "text/html": [
       "<div>\n",
       "<style scoped>\n",
       "    .dataframe tbody tr th:only-of-type {\n",
       "        vertical-align: middle;\n",
       "    }\n",
       "\n",
       "    .dataframe tbody tr th {\n",
       "        vertical-align: top;\n",
       "    }\n",
       "\n",
       "    .dataframe thead th {\n",
       "        text-align: right;\n",
       "    }\n",
       "</style>\n",
       "<table border=\"1\" class=\"dataframe\">\n",
       "  <thead>\n",
       "    <tr style=\"text-align: right;\">\n",
       "      <th></th>\n",
       "      <th></th>\n",
       "      <th>event</th>\n",
       "    </tr>\n",
       "    <tr>\n",
       "      <th>series_id</th>\n",
       "      <th>night</th>\n",
       "      <th></th>\n",
       "    </tr>\n",
       "  </thead>\n",
       "  <tbody>\n",
       "    <tr>\n",
       "      <th>0ce74d6d2106</th>\n",
       "      <th>20</th>\n",
       "      <td>1</td>\n",
       "    </tr>\n",
       "    <tr>\n",
       "      <th>154fe824ed87</th>\n",
       "      <th>30</th>\n",
       "      <td>1</td>\n",
       "    </tr>\n",
       "    <tr>\n",
       "      <th>44a41bba1ee7</th>\n",
       "      <th>10</th>\n",
       "      <td>1</td>\n",
       "    </tr>\n",
       "    <tr>\n",
       "      <th>efbfc4526d58</th>\n",
       "      <th>7</th>\n",
       "      <td>1</td>\n",
       "    </tr>\n",
       "    <tr>\n",
       "      <th>f8a8da8bdd00</th>\n",
       "      <th>17</th>\n",
       "      <td>1</td>\n",
       "    </tr>\n",
       "  </tbody>\n",
       "</table>\n",
       "</div>"
      ],
      "text/plain": [
       "                    event\n",
       "series_id    night       \n",
       "0ce74d6d2106 20         1\n",
       "154fe824ed87 30         1\n",
       "44a41bba1ee7 10         1\n",
       "efbfc4526d58 7          1\n",
       "f8a8da8bdd00 17         1"
      ]
     },
     "execution_count": 12,
     "metadata": {},
     "output_type": "execute_result"
    }
   ],
   "source": [
    "bad_nights = train_events[['series_id', 'night', 'event']].groupby(by=['series_id', 'night']).count()\n",
    "bad_nights[bad_nights['event']!=2]"
   ]
  },
  {
   "cell_type": "markdown",
   "metadata": {},
   "source": [
    "Removing problematic Data"
   ]
  },
  {
   "cell_type": "code",
   "execution_count": 13,
   "metadata": {},
   "outputs": [
    {
     "name": "stdout",
     "output_type": "stream",
     "text": [
      "<class 'pandas.core.frame.DataFrame'>\n",
      "RangeIndex: 9580 entries, 0 to 9579\n",
      "Data columns (total 5 columns):\n",
      " #   Column     Non-Null Count  Dtype  \n",
      "---  ------     --------------  -----  \n",
      " 0   series_id  9580 non-null   object \n",
      " 1   night      9580 non-null   int64  \n",
      " 2   event      9580 non-null   object \n",
      " 3   step       9580 non-null   float64\n",
      " 4   timestamp  9580 non-null   object \n",
      "dtypes: float64(1), int64(1), object(3)\n",
      "memory usage: 374.3+ KB\n"
     ]
    }
   ],
   "source": [
    "train_events = train_events[~(((train_events['series_id']=='0ce74d6d2106') & (train_events['night']==20)) |\n",
    "                              ((train_events['series_id']=='154fe824ed87') & (train_events['night']==30)) |\n",
    "                              ((train_events['series_id']=='44a41bba1ee7') & (train_events['night']==10)) |                \n",
    "                              ((train_events['series_id']=='efbfc4526d58') & (train_events['night']==7)) |\n",
    "                              ((train_events['series_id']=='f8a8da8bdd00') & (train_events['night']==17)))].reset_index(drop=True)\n",
    "\n",
    "train_events.info()"
   ]
  },
  {
   "cell_type": "code",
   "execution_count": 14,
   "metadata": {},
   "outputs": [
    {
     "name": "stdout",
     "output_type": "stream",
     "text": [
      "Total number of valid series in training dataset: 269\n"
     ]
    }
   ],
   "source": [
    "series_ID_list = list(train_events['series_id'].unique())\n",
    "print('Total number of valid series in training dataset: '+ str(len(series_ID_list)))"
   ]
  },
  {
   "cell_type": "code",
   "execution_count": 15,
   "metadata": {},
   "outputs": [
    {
     "data": {
      "text/plain": [
       "series_id    False\n",
       "step         False\n",
       "timestamp    False\n",
       "anglez       False\n",
       "enmo         False\n",
       "dtype: bool"
      ]
     },
     "execution_count": 15,
     "metadata": {},
     "output_type": "execute_result"
    }
   ],
   "source": [
    "# Update train_series dataset with final set of series\n",
    "train_series = train_series[train_series['series_id'].isin(series_ID_list)].reset_index(drop=True)\n",
    "# Check for nulls\n",
    "train_series.isnull().any()"
   ]
  },
  {
   "cell_type": "markdown",
   "metadata": {},
   "source": [
    "### Sample encoding and merge data "
   ]
  },
  {
   "cell_type": "code",
   "execution_count": 16,
   "metadata": {},
   "outputs": [],
   "source": [
    "train_events[\"step\"]  = train_events[\"step\"].astype(\"int\")\n",
    "train_events[\"awake\"] = train_events[\"event\"].replace({\"onset\":1,\"wakeup\":0})\n",
    "\n",
    "train = pd.merge(train_series, train_events[['step','awake']], on='step', how='left')\n",
    "train[\"awake\"] = train[\"awake\"].bfill(axis ='rows')\n",
    "\n",
    "\n",
    "train['awake'] = train['awake'].fillna(1) # awake\n",
    "train[\"awake\"] = train[\"awake\"].astype(\"int\")\n"
   ]
  },
  {
   "cell_type": "code",
   "execution_count": 17,
   "metadata": {},
   "outputs": [
    {
     "data": {
      "text/html": [
       "<div>\n",
       "<style scoped>\n",
       "    .dataframe tbody tr th:only-of-type {\n",
       "        vertical-align: middle;\n",
       "    }\n",
       "\n",
       "    .dataframe tbody tr th {\n",
       "        vertical-align: top;\n",
       "    }\n",
       "\n",
       "    .dataframe thead th {\n",
       "        text-align: right;\n",
       "    }\n",
       "</style>\n",
       "<table border=\"1\" class=\"dataframe\">\n",
       "  <thead>\n",
       "    <tr style=\"text-align: right;\">\n",
       "      <th></th>\n",
       "      <th>series_id</th>\n",
       "      <th>step</th>\n",
       "      <th>timestamp</th>\n",
       "      <th>anglez</th>\n",
       "      <th>enmo</th>\n",
       "      <th>awake</th>\n",
       "    </tr>\n",
       "  </thead>\n",
       "  <tbody>\n",
       "    <tr>\n",
       "      <th>112280629</th>\n",
       "      <td>e6ddbaaf0639</td>\n",
       "      <td>279998</td>\n",
       "      <td>2017-10-13T18:08:10-0400</td>\n",
       "      <td>16.243099</td>\n",
       "      <td>0.2674</td>\n",
       "      <td>1</td>\n",
       "    </tr>\n",
       "    <tr>\n",
       "      <th>104337635</th>\n",
       "      <td>dc80ca623d71</td>\n",
       "      <td>495827</td>\n",
       "      <td>2019-06-18T03:53:55-0400</td>\n",
       "      <td>47.297001</td>\n",
       "      <td>0.0000</td>\n",
       "      <td>0</td>\n",
       "    </tr>\n",
       "    <tr>\n",
       "      <th>63016473</th>\n",
       "      <td>89bd631d1769</td>\n",
       "      <td>105535</td>\n",
       "      <td>2018-01-22T19:34:35-0500</td>\n",
       "      <td>32.337502</td>\n",
       "      <td>0.0100</td>\n",
       "      <td>1</td>\n",
       "    </tr>\n",
       "    <tr>\n",
       "      <th>113908767</th>\n",
       "      <td>ebb6fae8ed43</td>\n",
       "      <td>108590</td>\n",
       "      <td>2018-05-17T23:04:10-0400</td>\n",
       "      <td>-77.011497</td>\n",
       "      <td>0.0000</td>\n",
       "      <td>1</td>\n",
       "    </tr>\n",
       "    <tr>\n",
       "      <th>28736224</th>\n",
       "      <td>3664fe9233f9</td>\n",
       "      <td>110424</td>\n",
       "      <td>2018-02-12T03:52:00-0500</td>\n",
       "      <td>40.689800</td>\n",
       "      <td>0.0000</td>\n",
       "      <td>1</td>\n",
       "    </tr>\n",
       "    <tr>\n",
       "      <th>25634228</th>\n",
       "      <td>31011ade7c0a</td>\n",
       "      <td>29890</td>\n",
       "      <td>2017-08-17T10:15:50-0400</td>\n",
       "      <td>29.753500</td>\n",
       "      <td>0.0000</td>\n",
       "      <td>0</td>\n",
       "    </tr>\n",
       "    <tr>\n",
       "      <th>34059593</th>\n",
       "      <td>44a41bba1ee7</td>\n",
       "      <td>92163</td>\n",
       "      <td>2018-02-28T02:00:15-0500</td>\n",
       "      <td>7.069800</td>\n",
       "      <td>0.0151</td>\n",
       "      <td>1</td>\n",
       "    </tr>\n",
       "    <tr>\n",
       "      <th>94160466</th>\n",
       "      <td>ce85771a714c</td>\n",
       "      <td>40570</td>\n",
       "      <td>2018-07-19T20:35:50-0400</td>\n",
       "      <td>35.776299</td>\n",
       "      <td>0.8500</td>\n",
       "      <td>1</td>\n",
       "    </tr>\n",
       "    <tr>\n",
       "      <th>38376109</th>\n",
       "      <td>51b23d177971</td>\n",
       "      <td>101840</td>\n",
       "      <td>2017-09-12T09:41:40-0400</td>\n",
       "      <td>-24.770500</td>\n",
       "      <td>0.0094</td>\n",
       "      <td>0</td>\n",
       "    </tr>\n",
       "    <tr>\n",
       "      <th>85466694</th>\n",
       "      <td>bf00506437aa</td>\n",
       "      <td>307692</td>\n",
       "      <td>2019-06-18T08:51:00-0400</td>\n",
       "      <td>-27.022800</td>\n",
       "      <td>0.0501</td>\n",
       "      <td>0</td>\n",
       "    </tr>\n",
       "  </tbody>\n",
       "</table>\n",
       "</div>"
      ],
      "text/plain": [
       "              series_id    step                 timestamp     anglez    enmo  \\\n",
       "112280629  e6ddbaaf0639  279998  2017-10-13T18:08:10-0400  16.243099  0.2674   \n",
       "104337635  dc80ca623d71  495827  2019-06-18T03:53:55-0400  47.297001  0.0000   \n",
       "63016473   89bd631d1769  105535  2018-01-22T19:34:35-0500  32.337502  0.0100   \n",
       "113908767  ebb6fae8ed43  108590  2018-05-17T23:04:10-0400 -77.011497  0.0000   \n",
       "28736224   3664fe9233f9  110424  2018-02-12T03:52:00-0500  40.689800  0.0000   \n",
       "25634228   31011ade7c0a   29890  2017-08-17T10:15:50-0400  29.753500  0.0000   \n",
       "34059593   44a41bba1ee7   92163  2018-02-28T02:00:15-0500   7.069800  0.0151   \n",
       "94160466   ce85771a714c   40570  2018-07-19T20:35:50-0400  35.776299  0.8500   \n",
       "38376109   51b23d177971  101840  2017-09-12T09:41:40-0400 -24.770500  0.0094   \n",
       "85466694   bf00506437aa  307692  2019-06-18T08:51:00-0400 -27.022800  0.0501   \n",
       "\n",
       "           awake  \n",
       "112280629      1  \n",
       "104337635      0  \n",
       "63016473       1  \n",
       "113908767      1  \n",
       "28736224       1  \n",
       "25634228       0  \n",
       "34059593       1  \n",
       "94160466       1  \n",
       "38376109       0  \n",
       "85466694       0  "
      ]
     },
     "execution_count": 17,
     "metadata": {},
     "output_type": "execute_result"
    }
   ],
   "source": [
    "train.sample(10)"
   ]
  },
  {
   "cell_type": "markdown",
   "metadata": {},
   "source": [
    "## Visualization"
   ]
  },
  {
   "cell_type": "code",
   "execution_count": 18,
   "metadata": {},
   "outputs": [],
   "source": [
    "for series_ID in series_ID_list:\n",
    "    train_series_sample = train_series[('series_id','=',series_ID)]\n",
    "    display(Markdown('###  anglez for series ' + series_ID))\n",
    "    fig, ax = plt.subplots(figsize=(20, 3))\n",
    "    sns.lineplot(data=train, x=\"step\", y=\"anglez\",hue=\"awake\", linewidth = 0.5)\n",
    "    plt.show();\n",
    "    display(Markdown('###  enmo for series ' + series_ID))\n",
    "    fig, ax = plt.subplots(figsize=(20, 3))\n",
    "    sns.lineplot(data=train, x=\"step\", y=\"enmo\",hue=\"awake\", linewidth = 0.5)\n",
    "    plt.show();\n",
    "    del train\n",
    "    gc.collect();\n"
   ]
  },
  {
   "cell_type": "code",
   "execution_count": null,
   "metadata": {},
   "outputs": [],
   "source": []
  },
  {
   "cell_type": "code",
   "execution_count": null,
   "metadata": {},
   "outputs": [],
   "source": []
  },
  {
   "cell_type": "code",
   "execution_count": null,
   "metadata": {},
   "outputs": [],
   "source": []
  },
  {
   "cell_type": "code",
   "execution_count": null,
   "metadata": {},
   "outputs": [],
   "source": []
  },
  {
   "cell_type": "code",
   "execution_count": null,
   "metadata": {},
   "outputs": [],
   "source": []
  }
 ],
 "metadata": {
  "kernelspec": {
   "display_name": "sleep_states",
   "language": "python",
   "name": "python3"
  },
  "language_info": {
   "codemirror_mode": {
    "name": "ipython",
    "version": 3
   },
   "file_extension": ".py",
   "mimetype": "text/x-python",
   "name": "python",
   "nbconvert_exporter": "python",
   "pygments_lexer": "ipython3",
   "version": "3.11.5"
  }
 },
 "nbformat": 4,
 "nbformat_minor": 2
}
